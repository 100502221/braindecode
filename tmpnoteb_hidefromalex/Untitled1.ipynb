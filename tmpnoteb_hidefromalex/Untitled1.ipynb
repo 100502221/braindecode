{
 "cells": [
  {
   "cell_type": "code",
   "execution_count": null,
   "metadata": {},
   "outputs": [],
   "source": [
    "%load_ext autoreload\n",
    "%autoreload 2"
   ]
  },
  {
   "cell_type": "code",
   "execution_count": null,
   "metadata": {},
   "outputs": [],
   "source": [
    "\"\"\"\n",
    "Cropped Decoding on BCIC IV 2a Competition Set\n",
    "==============================================\n",
    "\n",
    "\"\"\"\n",
    "\n",
    "# Authors: Maciej Sliwowski\n",
    "#          Robin Tibor Schirrmeister\n",
    "#\n",
    "# License: BSD-3\n",
    "\n",
    "import os.path\n",
    "from collections import OrderedDict\n",
    "\n",
    "import torch\n",
    "from torch import optim\n",
    "from torch.utils.data import Dataset\n",
    "import numpy as np\n",
    "\n",
    "from braindecode.datasets.bcic_iv_2a import BCICompetition4Set2A\n",
    "from braindecode.datautil import CropsDataLoader\n",
    "from braindecode.datautil.signalproc import (\n",
    "    bandpass_cnt,\n",
    "    exponential_running_standardize,\n",
    ")\n",
    "from braindecode.datautil.trial_segment import create_signal_target_from_raw_mne\n",
    "from braindecode.classifier import EEGClassifier\n",
    "from braindecode.scoring import CroppedTrialEpochScoring\n",
    "from braindecode.mne_ext.signalproc import mne_apply\n",
    "from braindecode.models.deep4 import Deep4Net\n",
    "from braindecode.models.shallow_fbcsp import ShallowFBCSPNet\n",
    "from braindecode.models.util import to_dense_prediction_model\n",
    "from braindecode.util import set_random_seeds\n",
    "from braindecode.losses import CroppedNLLLoss"
   ]
  },
  {
   "cell_type": "code",
   "execution_count": null,
   "metadata": {},
   "outputs": [],
   "source": [
    "from braindecode.datasets import MOABBDataset\n",
    "from braindecode.datautil.windowers import EventWindower"
   ]
  },
  {
   "cell_type": "code",
   "execution_count": null,
   "metadata": {},
   "outputs": [],
   "source": [
    "subject_id = 1  # 1-9\n",
    "low_cut_hz = 4  # 0 or 4\n",
    "model_name = \"shallow\"  # 'shallow' or 'deep'\n",
    "cuda = torch.cuda.is_available()\n",
    "#cuda = False\n",
    "if cuda:\n",
    "    device = 'cuda'\n",
    "else:\n",
    "    device = 'cpu'\n",
    "    \n",
    "\n",
    "ival = [-500, 4000]\n",
    "input_time_length = 1000\n",
    "max_epochs = 5\n",
    "max_increase_epochs = 80\n",
    "batch_size = 60\n",
    "high_cut_hz = 38\n",
    "factor_new = 1e-3\n",
    "init_block_size = 1000\n",
    "valid_set_fraction = 0.2"
   ]
  },
  {
   "cell_type": "code",
   "execution_count": null,
   "metadata": {},
   "outputs": [],
   "source": [
    "set_random_seeds(seed=20190706, cuda=cuda)\n",
    "\n",
    "n_classes = 4\n",
    "n_chans = 22\n",
    "if model_name == \"shallow\":\n",
    "    model = ShallowFBCSPNet(\n",
    "        n_chans,\n",
    "        n_classes,\n",
    "        input_time_length=input_time_length,\n",
    "        final_conv_length=30,\n",
    "    )\n",
    "elif model_name == \"deep\":\n",
    "    model = Deep4Net(\n",
    "        n_chans,\n",
    "        n_classes,\n",
    "        input_time_length=input_time_length,\n",
    "        final_conv_length=2,\n",
    "    )\n",
    "\n",
    "to_dense_prediction_model(model)\n",
    "\n",
    "if cuda:\n",
    "    model.cuda()\n",
    "\n",
    "with torch.no_grad():\n",
    "    dummy_input = torch.tensor(\n",
    "        np.ones((1, n_chans, input_time_length, 1), dtype=np.float32),\n",
    "        device=device\n",
    "    )\n",
    "    n_preds_per_input = model(dummy_input).shape[2]\n"
   ]
  },
  {
   "cell_type": "code",
   "execution_count": null,
   "metadata": {},
   "outputs": [],
   "source": [
    "dataset = MOABBDataset('BNCI2014001',subject=subject_id,\n",
    "            raw_transformer=None,\n",
    "            windower=EventWindower(window_size_samples=1000,\n",
    "                                   stride_samples=n_preds_per_input,\n",
    "                                   drop_last_samples=False,\n",
    "                                   tmin=0),\n",
    "            transform_online=True)"
   ]
  },
  {
   "cell_type": "code",
   "execution_count": null,
   "metadata": {},
   "outputs": [],
   "source": [
    "class TrainTestRunSplit(object):\n",
    "    def __init__(self, train_runs):\n",
    "        assert isinstance(train_runs, (int, float))\n",
    "        self.train_runs = train_runs\n",
    "\n",
    "    def __call__(self, dataset, y, **kwargs):\n",
    "        # can we directly use this https://scikit-learn.org/stable/modules/generated/sklearn.model_selection.train_test_split.html\n",
    "        # or stick to same API\n",
    "        if isinstance(self.train_runs, int):\n",
    "            n_train_runs = self.train_runs\n",
    "        else:\n",
    "            n_train_runs = int(self.train_runs * len(dataset))\n",
    "\n",
    "        n_train_windows = dataset.cumulative_sizes[n_train_runs]\n",
    "        n_total_windows = len(dataset)\n",
    "        return (\n",
    "            torch.utils.data.Subset(dataset,np.arange(n_train_windows)),\n",
    "            torch.utils.data.Subset(dataset,np.arange(n_train_windows, n_total_windows)),\n",
    "        )"
   ]
  },
  {
   "cell_type": "code",
   "execution_count": null,
   "metadata": {},
   "outputs": [],
   "source": [
    "train_set, valid_set = TrainTestRunSplit(5)(dataset, y=None)"
   ]
  },
  {
   "cell_type": "code",
   "execution_count": null,
   "metadata": {},
   "outputs": [],
   "source": [
    "len(train_set)"
   ]
  },
  {
   "cell_type": "code",
   "execution_count": null,
   "metadata": {},
   "outputs": [],
   "source": [
    "from skorch.callbacks import ProgressBar"
   ]
  },
  {
   "cell_type": "code",
   "execution_count": null,
   "metadata": {},
   "outputs": [],
   "source": [
    "cropped_cb_train = CroppedTrialEpochScoring(\n",
    "    \"accuracy\",\n",
    "    name=\"train_trial_accuracy\",\n",
    "    lower_is_better=False,\n",
    "    on_train=True,\n",
    "    input_time_length=input_time_length,\n",
    ")\n",
    "\n",
    "cropped_cb_valid = CroppedTrialEpochScoring(\n",
    "    \"accuracy\",\n",
    "    on_train=False,\n",
    "    name=\"valid_trial_accuracy\",\n",
    "    lower_is_better=False,\n",
    "    input_time_length=input_time_length,\n",
    ")\n",
    "# MaxNormDefaultConstraint and early stopping should be added to repeat previous braindecode\n",
    "\n",
    "clf = EEGClassifier(\n",
    "    model,\n",
    "    criterion=CroppedNLLLoss,\n",
    "    optimizer=optim.AdamW,\n",
    "    train_split=TrainTestRunSplit(train_runs=5),\n",
    "    optimizer__lr=0.0625 * 0.01,\n",
    "    optimizer__weight_decay=0,\n",
    "    batch_size=32,\n",
    "    callbacks=[\n",
    "        (\"train_trial_accuracy\", cropped_cb_train),\n",
    "        (\"valid_trial_accuracy\", cropped_cb_valid),\n",
    "        (\"progress_bar\", ProgressBar()),\n",
    "    ],\n",
    "    device=device,\n",
    "    \n",
    ")\n",
    "\n",
    "clf.fit(dataset, y=None, epochs=20)"
   ]
  },
  {
   "cell_type": "code",
   "execution_count": null,
   "metadata": {},
   "outputs": [],
   "source": [
    "%debug"
   ]
  },
  {
   "cell_type": "code",
   "execution_count": null,
   "metadata": {},
   "outputs": [],
   "source": [
    "n_preds_per_input"
   ]
  },
  {
   "cell_type": "code",
   "execution_count": null,
   "metadata": {},
   "outputs": [],
   "source": [
    "1125 / n_preds_per_input"
   ]
  },
  {
   "cell_type": "code",
   "execution_count": null,
   "metadata": {},
   "outputs": [],
   "source": [
    "%debug"
   ]
  },
  {
   "cell_type": "code",
   "execution_count": null,
   "metadata": {},
   "outputs": [],
   "source": [
    "\n",
    "expected = [{'batches': [{'train_loss': 2.0750885009765625, 'train_batch_size': 32},\n",
    "   {'train_loss': 3.09424090385437, 'train_batch_size': 32},\n",
    "   {'train_loss': 1.079931616783142, 'train_batch_size': 32},\n",
    "   {'valid_loss': 2.320780038833618, 'valid_batch_size': 24}],\n",
    "  'epoch': 1,\n",
    "  'train_batch_count': 3,\n",
    "  'valid_batch_count': 1,\n",
    "  'train_loss': 2.0830870072046914,\n",
    "  'train_loss_best': True,\n",
    "  'valid_loss': 2.320780038833618,\n",
    "  'valid_loss_best': True,\n",
    "  'train_trial_accuracy': 0.5,\n",
    "  'train_trial_accuracy_best': True,\n",
    "  'valid_trial_accuracy': 0.5,\n",
    "  'valid_trial_accuracy_best': True},\n",
    " {'batches': [{'train_loss': 1.7862337827682495, 'train_batch_size': 32},\n",
    "   {'train_loss': 1.410051941871643, 'train_batch_size': 32},\n",
    "   {'train_loss': 1.1569499969482422, 'train_batch_size': 32},\n",
    "   {'valid_loss': 1.4905306100845337, 'valid_batch_size': 24}],\n",
    "  'epoch': 2,\n",
    "  'train_batch_count': 3,\n",
    "  'valid_batch_count': 1,\n",
    "  'train_loss': 1.4510785738627117,\n",
    "  'train_loss_best': True,\n",
    "  'valid_loss': 1.4905306100845337,\n",
    "  'valid_loss_best': True,\n",
    "  'train_trial_accuracy': 0.5,\n",
    "  'train_trial_accuracy_best': False,\n",
    "  'valid_trial_accuracy': 0.5,\n",
    "  'valid_trial_accuracy_best': False},\n",
    " {'batches': [{'train_loss': 1.1232541799545288, 'train_batch_size': 32},\n",
    "   {'train_loss': 2.304981231689453, 'train_batch_size': 32},\n",
    "   {'train_loss': 0.9293400049209595, 'train_batch_size': 32},\n",
    "   {'valid_loss': 2.455669641494751, 'valid_batch_size': 24}],\n",
    "  'epoch': 3,\n",
    "  'train_batch_count': 3,\n",
    "  'valid_batch_count': 1,\n",
    "  'train_loss': 1.4525251388549805,\n",
    "  'train_loss_best': False,\n",
    "  'valid_loss': 2.455669641494751,\n",
    "  'valid_loss_best': False,\n",
    "  'train_trial_accuracy': 0.5,\n",
    "  'train_trial_accuracy_best': False,\n",
    "  'valid_trial_accuracy': 0.5,\n",
    "  'valid_trial_accuracy_best': False},\n",
    " {'batches': [{'train_loss': 1.241913080215454, 'train_batch_size': 32},\n",
    "   {'train_loss': 1.1696765422821045, 'train_batch_size': 32},\n",
    "   {'train_loss': 0.9132626056671143, 'train_batch_size': 32},\n",
    "   {'valid_loss': 0.9064457416534424, 'valid_batch_size': 24}],\n",
    "  'epoch': 4,\n",
    "  'train_batch_count': 3,\n",
    "  'valid_batch_count': 1,\n",
    "  'train_loss': 1.1082840760548909,\n",
    "  'train_loss_best': True,\n",
    "  'valid_loss': 0.9064457416534424,\n",
    "  'valid_loss_best': True,\n",
    "  'train_trial_accuracy': 0.5,\n",
    "  'train_trial_accuracy_best': False,\n",
    "  'valid_trial_accuracy': 0.5,\n",
    "  'valid_trial_accuracy_best': False}]\n",
    "\n",
    "\n",
    "\n",
    "\n",
    "history_without_dur = [{k: v for k,v in h.items() if k != 'dur'}\n",
    "                       for h in clf.history]\n",
    "\n",
    "\n",
    "assert_deep_allclose(history_without_dur, expected)"
   ]
  },
  {
   "cell_type": "code",
   "execution_count": null,
   "metadata": {},
   "outputs": [],
   "source": [
    "history_without_dur"
   ]
  },
  {
   "cell_type": "code",
   "execution_count": null,
   "metadata": {},
   "outputs": [],
   "source": []
  }
 ],
 "metadata": {
  "kernelspec": {
   "display_name": "Python 3",
   "language": "python",
   "name": "python3"
  },
  "language_info": {
   "codemirror_mode": {
    "name": "ipython",
    "version": 3
   },
   "file_extension": ".py",
   "mimetype": "text/x-python",
   "name": "python",
   "nbconvert_exporter": "python",
   "pygments_lexer": "ipython3",
   "version": "3.7.5"
  }
 },
 "nbformat": 4,
 "nbformat_minor": 4
}
