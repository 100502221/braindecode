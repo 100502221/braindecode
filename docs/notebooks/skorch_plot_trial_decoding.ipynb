{
 "cells": [
  {
   "cell_type": "code",
   "execution_count": null,
   "metadata": {},
   "outputs": [],
   "source": [
    "%load_ext autoreload\n",
    "%autoreload 2"
   ]
  },
  {
   "cell_type": "code",
   "execution_count": null,
   "metadata": {},
   "outputs": [],
   "source": [
    "import sys\n",
    "import logging\n",
    "import importlib\n",
    "importlib.reload(logging)  # see https://stackoverflow.com/a/21475297/1469195\n",
    "log = logging.getLogger()\n",
    "log.setLevel('INFO')\n",
    "\n",
    "logging.basicConfig(format='%(asctime)s %(levelname)s : %(message)s',\n",
    "                    level=logging.INFO, stream=sys.stdout)"
   ]
  },
  {
   "cell_type": "code",
   "execution_count": null,
   "metadata": {},
   "outputs": [],
   "source": [
    "import mne\n",
    "from mne.io import concatenate_raws\n",
    "\n",
    "# 5,6,7,10,13,14 are codes for executed and imagined hands/feet\n",
    "subject_id = 22  # carefully cherry-picked to give nice results on such limited data :)\n",
    "event_codes = [5, 6, 9, 10, 13, 14]\n",
    "# event_codes = [3,4,5,6,7,8,9,10,11,12,13,14]\n",
    "\n",
    "# This will download the files if you don't have them yet,\n",
    "# and then return the paths to the files.\n",
    "physionet_paths = mne.datasets.eegbci.load_data(subject_id, event_codes)\n",
    "\n",
    "# Load each of the files\n",
    "parts = [mne.io.read_raw_edf(path, preload=True, stim_channel='auto',\n",
    "                             verbose='WARNING')\n",
    "         for path in physionet_paths]\n",
    "\n",
    "# Concatenate them\n",
    "raw = concatenate_raws(parts)\n",
    "\n",
    "# Find the events in this dataset\n",
    "events, _ = mne.events_from_annotations(raw)\n",
    "\n",
    "# Use only EEG channels\n",
    "eeg_channel_inds = \\\n",
    "    mne.pick_types(raw.info, meg=False, eeg=True, stim=False, eog=False,\n",
    "                   exclude='bads')\n",
    "\n",
    "# Extract trials, only using EEG channels\n",
    "epoched = mne.Epochs(raw, events, dict(hands_or_left=2, feet_or_right=3),\n",
    "                     tmin=1, tmax=4.1, proj=False, picks=eeg_channel_inds,\n",
    "                     baseline=None, preload=True)"
   ]
  },
  {
   "cell_type": "code",
   "execution_count": null,
   "metadata": {},
   "outputs": [],
   "source": [
    "\n",
    "import numpy as np\n",
    "X = (epoched.get_data() * 1e6).astype(np.float32)\n",
    "y = (epoched.events[:, 2] - 2).astype(np.int64)  # 2,3 -> 0,1\n",
    "\n",
    "\n",
    "from braindecode.datautil.signal_target import SignalAndTarget\n",
    "\n",
    "# in skorch flow it is also a validation set (train-valid split set in skorch model)\n",
    "# To not shuffle data for train-valid split we need to create a splitter\n",
    "train_set = SignalAndTarget(X[:70], y=y[:70])\n",
    "# valid_set = SignalAndTarget(X[40:70], y=y[40:70])"
   ]
  },
  {
   "cell_type": "code",
   "execution_count": null,
   "metadata": {},
   "outputs": [],
   "source": [
    "\n",
    "from braindecode.models import ShallowFBCSPNet\n",
    "from braindecode.torch_ext.util import set_random_seeds  # XXX : move to braindecode.util\n",
    "\n",
    "# Set if you want to use GPU\n",
    "# You can also use torch.cuda.is_available() to determine if cuda is available on your machine.\n",
    "cuda = False\n",
    "set_random_seeds(seed=20170629, cuda=cuda)\n",
    "n_classes = 2\n",
    "in_chans = train_set.X.shape[1]"
   ]
  },
  {
   "cell_type": "code",
   "execution_count": null,
   "metadata": {},
   "outputs": [],
   "source": [
    "from skorch.classifier import NeuralNet, NeuralNetClassifier\n",
    "from skorch.dataset import CVSplit\n",
    "from torch.utils.data import Dataset"
   ]
  },
  {
   "cell_type": "code",
   "execution_count": null,
   "metadata": {},
   "outputs": [],
   "source": [
    "class EEGDataSet(Dataset):\n",
    "    def __init__(self, X, y):\n",
    "        self.X = X\n",
    "        if self.X.ndim == 3:\n",
    "            self.X = self.X[:,:,:,None]\n",
    "        self.y = y\n",
    "        \n",
    "    def __len__(self):\n",
    "        return len(self.X)\n",
    "    \n",
    "    def __getitem__(self, idx):\n",
    "        return self.X[idx], self.y[idx]"
   ]
  },
  {
   "cell_type": "code",
   "execution_count": null,
   "metadata": {},
   "outputs": [],
   "source": [
    "train_set = EEGDataSet(train_set.X, train_set.y)"
   ]
  },
  {
   "cell_type": "code",
   "execution_count": null,
   "metadata": {},
   "outputs": [],
   "source": [
    "from torch import optim"
   ]
  },
  {
   "cell_type": "code",
   "execution_count": null,
   "metadata": {},
   "outputs": [],
   "source": [
    "import torch\n",
    "import torch.nn.functional as F"
   ]
  },
  {
   "cell_type": "code",
   "execution_count": null,
   "metadata": {},
   "outputs": [],
   "source": [
    "class TrainTestSplit(object):\n",
    "    def __init__(self, train_size):\n",
    "        assert isinstance(train_size, (int, float))\n",
    "        self.train_size = train_size\n",
    "        \n",
    "    def __call__(self, dataset, y, **kwargs):\n",
    "        # can we directly use this https://scikit-learn.org/stable/modules/generated/sklearn.model_selection.train_test_split.html\n",
    "        # or stick to same API\n",
    "        if isinstance(self.train_size, int):\n",
    "            dataset_train = EEGDataSet(dataset.X[:self.train_size],dataset.y[:self.train_size])\n",
    "            dataset_valid = EEGDataSet(dataset.X[self.train_size:], dataset.y[self.train_size:])\n",
    "        elif isinstance(self.train_size, float):\n",
    "            raise Exception\n",
    "            dataset_train = torch.utils.data.Subset(dataset, range(\n",
    "                0, int(self.train_size * len(dataset))))\n",
    "            dataset_valid = torch.utils.data.Subset(dataset, range(\n",
    "                int(self.train_size * len(dataset)), len(X)))\n",
    "        return dataset_train, dataset_valid"
   ]
  },
  {
   "cell_type": "code",
   "execution_count": null,
   "metadata": {},
   "outputs": [],
   "source": [
    "from braindecode.skorch_training.skorchmodels import BraindecodeClassifier"
   ]
  },
  {
   "cell_type": "code",
   "execution_count": null,
   "metadata": {},
   "outputs": [],
   "source": [
    "from skorch.callbacks import EpochScoring"
   ]
  },
  {
   "cell_type": "code",
   "execution_count": null,
   "metadata": {},
   "outputs": [],
   "source": [
    "set_random_seeds(20200114, True)\n",
    "\n",
    "# final_conv_length = auto ensures we only get a single output in the time dimension\n",
    "model = ShallowFBCSPNet(in_chans=in_chans, n_classes=n_classes,\n",
    "                        input_time_length=train_set.X.shape[2],\n",
    "                        final_conv_length='auto').create_network()\n",
    "if cuda:\n",
    "    model.cuda()\n",
    "\n",
    "# It can use also NeuralNetClassifier\n",
    "skorch_model = BraindecodeClassifier(model,\n",
    "                         criterion=torch.nn.NLLLoss,\n",
    "                         optimizer=optim.AdamW, train_split=TrainTestSplit(train_size=40),\n",
    "                         optimizer__lr=0.0625 * 0.01, optimizer__weight_decay=0, batch_size=64,\n",
    "                         callbacks=[('train_accuracy', EpochScoring('accuracy', on_train=True, lower_is_better=False,\n",
    "                                                                   name='train_acc'))])\n",
    "skorch_model.fit(train_set, y=None, epochs=4)"
   ]
  },
  {
   "cell_type": "code",
   "execution_count": null,
   "metadata": {},
   "outputs": [],
   "source": [
    "test_set = EEGDataSet(X[70:], y=y[70:])"
   ]
  },
  {
   "cell_type": "code",
   "execution_count": null,
   "metadata": {},
   "outputs": [],
   "source": [
    "skorch_model.evaluate(test_set.X, test_set.y)"
   ]
  },
  {
   "cell_type": "code",
   "execution_count": null,
   "metadata": {},
   "outputs": [],
   "source": [
    "skorch_model.evaluate(test_set)"
   ]
  },
  {
   "cell_type": "code",
   "execution_count": null,
   "metadata": {},
   "outputs": [],
   "source": [
    "skorch_model.predict(test_set)"
   ]
  },
  {
   "cell_type": "code",
   "execution_count": null,
   "metadata": {},
   "outputs": [],
   "source": [
    "skorch_model.predict_proba(test_set)"
   ]
  }
 ],
 "metadata": {
  "kernelspec": {
   "display_name": "Python 3",
   "language": "python",
   "name": "python3"
  },
  "language_info": {
   "codemirror_mode": {
    "name": "ipython",
    "version": 3
   },
   "file_extension": ".py",
   "mimetype": "text/x-python",
   "name": "python",
   "nbconvert_exporter": "python",
   "pygments_lexer": "ipython3",
   "version": "3.7.5"
  }
 },
 "nbformat": 4,
 "nbformat_minor": 4
}
